{
  "nbformat": 4,
  "nbformat_minor": 0,
  "metadata": {
    "colab": {
      "provenance": [],
      "gpuType": "T4"
    },
    "kernelspec": {
      "name": "python3",
      "display_name": "Python 3"
    },
    "language_info": {
      "name": "python"
    },
    "accelerator": "GPU"
  },
  "cells": [
    {
      "cell_type": "code",
      "execution_count": null,
      "metadata": {
        "id": "hAeX3WU2_lIl",
        "colab": {
          "base_uri": "https://localhost:8080/"
        },
        "outputId": "12d107e6-1ede-4b97-a451-4487119c8149"
      },
      "outputs": [
        {
          "output_type": "stream",
          "name": "stdout",
          "text": [
            "Mounted at /content/drive\n"
          ]
        }
      ],
      "source": [
        "from google.colab import drive\n",
        "drive.mount('/content/drive')\n"
      ]
    },
    {
      "cell_type": "code",
      "source": [
        "BASE_PATH = '/content/drive/MyDrive/Zero-shot/'\n",
        "\n",
        "%cd /content/drive/MyDrive/Zero-shot/"
      ],
      "metadata": {
        "id": "LrTmpUaRAA4W",
        "colab": {
          "base_uri": "https://localhost:8080/"
        },
        "outputId": "50a819dc-2ba9-4f97-b402-bce558592ca7"
      },
      "execution_count": null,
      "outputs": [
        {
          "output_type": "stream",
          "name": "stdout",
          "text": [
            "/content/drive/.shortcut-targets-by-id/1BqgNoSIciI6COmjNDp9RN8ktS_pW1GfR/Zero-shot\n"
          ]
        }
      ]
    },
    {
      "cell_type": "code",
      "source": [
        "!pip install ftfy regex tqdm\n"
      ],
      "metadata": {
        "id": "FhRds_i8AExD",
        "colab": {
          "base_uri": "https://localhost:8080/"
        },
        "outputId": "fe8de5e0-fc69-4c14-f876-6492264893bd"
      },
      "execution_count": null,
      "outputs": [
        {
          "output_type": "stream",
          "name": "stdout",
          "text": [
            "Collecting ftfy\n",
            "  Downloading ftfy-6.3.1-py3-none-any.whl.metadata (7.3 kB)\n",
            "Requirement already satisfied: regex in /usr/local/lib/python3.12/dist-packages (2024.11.6)\n",
            "Requirement already satisfied: tqdm in /usr/local/lib/python3.12/dist-packages (4.67.1)\n",
            "Requirement already satisfied: wcwidth in /usr/local/lib/python3.12/dist-packages (from ftfy) (0.2.14)\n",
            "Downloading ftfy-6.3.1-py3-none-any.whl (44 kB)\n",
            "\u001b[?25l   \u001b[90m━━━━━━━━━━━━━━━━━━━━━━━━━━━━━━━━━━━━━━━━\u001b[0m \u001b[32m0.0/44.8 kB\u001b[0m \u001b[31m?\u001b[0m eta \u001b[36m-:--:--\u001b[0m\r\u001b[2K   \u001b[90m━━━━━━━━━━━━━━━━━━━━━━━━━━━━━━━━━━━━━━━━\u001b[0m \u001b[32m44.8/44.8 kB\u001b[0m \u001b[31m2.7 MB/s\u001b[0m eta \u001b[36m0:00:00\u001b[0m\n",
            "\u001b[?25hInstalling collected packages: ftfy\n",
            "Successfully installed ftfy-6.3.1\n"
          ]
        }
      ]
    },
    {
      "cell_type": "code",
      "source": [
        "from config import Config\n",
        "from transform import targetpad_transform\n",
        "from utils import get_laion_cirr_dataset\n",
        "\n",
        "cfg = Config()\n",
        "print(\"Using dataset:\", cfg.laion_type)\n",
        "print(\"Image root:\", cfg.laion_image_root)\n",
        "\n",
        "pre = targetpad_transform(cfg.target_ratio, 224)\n",
        "train_ds, _, _ = get_laion_cirr_dataset(\n",
        "    pre, cfg.laion_type,\n",
        "    skip_eval=True,\n",
        "    laion_image_root=cfg.laion_image_root\n",
        ")\n",
        "print(\"✅ Total training pairs:\", len(train_ds))\n"
      ],
      "metadata": {
        "colab": {
          "base_uri": "https://localhost:8080/"
        },
        "id": "b6lhLnVNMH9O",
        "outputId": "148a177f-2a20-4416-aae9-c65d8ae57b50"
      },
      "execution_count": null,
      "outputs": [
        {
          "output_type": "stream",
          "name": "stdout",
          "text": [
            "Using dataset: laion_combined\n",
            "Image root: /content/drive/MyDrive/Zero-shot/laion_cir_combined\n",
            "Laion train dataset (combined) initialized (root=/content/drive/MyDrive/Zero-shot/laion_cir_combined)\n",
            "Kept 22666 pairs; skipped 1 missing pairs.\n",
            "✅ Total training pairs: 22666\n"
          ]
        }
      ]
    },
    {
      "cell_type": "code",
      "source": [
        "!python main.py"
      ],
      "metadata": {
        "id": "mNc_PnZtAM77",
        "colab": {
          "base_uri": "https://localhost:8080/"
        },
        "outputId": "3e19714e-78cc-4590-a9bf-7f83bd7f3214"
      },
      "execution_count": null,
      "outputs": [
        {
          "output_type": "stream",
          "name": "stdout",
          "text": [
            "\u001b[34m\u001b[1mwandb\u001b[0m: (1) Create a W&B account\n",
            "\u001b[34m\u001b[1mwandb\u001b[0m: (2) Use an existing W&B account\n",
            "\u001b[34m\u001b[1mwandb\u001b[0m: (3) Don't visualize my results\n",
            "\u001b[34m\u001b[1mwandb\u001b[0m: Enter your choice: 2\n",
            "\u001b[34m\u001b[1mwandb\u001b[0m: You chose 'Use an existing W&B account'\n",
            "\u001b[34m\u001b[1mwandb\u001b[0m: Logging into wandb.ai. (Learn how to deploy a W&B server locally: https://wandb.me/wandb-server)\n",
            "\u001b[34m\u001b[1mwandb\u001b[0m: You can find your API key in your browser here: https://wandb.ai/authorize?ref=models\n",
            "\u001b[34m\u001b[1mwandb\u001b[0m: Paste an API key from your profile and hit enter, or press ctrl+c to quit: \n",
            "\u001b[34m\u001b[1mwandb\u001b[0m: No netrc file found, creating one.\n",
            "\u001b[34m\u001b[1mwandb\u001b[0m: Appending key for api.wandb.ai to your netrc file: /root/.netrc\n",
            "\u001b[34m\u001b[1mwandb\u001b[0m: Currently logged in as: \u001b[33mkumaragerivindu\u001b[0m (\u001b[33mkumaragerivindu-university-of-moratuwa\u001b[0m) to \u001b[32mhttps://api.wandb.ai\u001b[0m. Use \u001b[1m`wandb login --relogin`\u001b[0m to force relogin\n",
            "\u001b[34m\u001b[1mwandb\u001b[0m: \u001b[38;5;178m⢿\u001b[0m Waiting for wandb.init()...\n",
            "\u001b[34m\u001b[1mwandb\u001b[0m: \u001b[38;5;178m⣻\u001b[0m Waiting for wandb.init()...\n",
            "\u001b[34m\u001b[1mwandb\u001b[0m: Tracking run with wandb version 0.22.2\n",
            "\u001b[34m\u001b[1mwandb\u001b[0m: Run data is saved locally in \u001b[35m\u001b[1m/content/drive/.shortcut-targets-by-id/1BqgNoSIciI6COmjNDp9RN8ktS_pW1GfR/Zero-shot/wandb/run-20251019_131947-ez86gwpd\u001b[0m\n",
            "\u001b[34m\u001b[1mwandb\u001b[0m: Run \u001b[1m`wandb offline`\u001b[0m to turn off syncing.\n",
            "\u001b[34m\u001b[1mwandb\u001b[0m: Syncing run \u001b[33mcolab_run_clipB32_combined\u001b[0m\n",
            "\u001b[34m\u001b[1mwandb\u001b[0m: ⭐️ View project at \u001b[34m\u001b[4mhttps://wandb.ai/kumaragerivindu-university-of-moratuwa/ZeroShot-CIR\u001b[0m\n",
            "\u001b[34m\u001b[1mwandb\u001b[0m: 🚀 View run at \u001b[34m\u001b[4mhttps://wandb.ai/kumaragerivindu-university-of-moratuwa/ZeroShot-CIR/runs/ez86gwpd\u001b[0m\n",
            "100%|████████████████████████████████████████| 338M/338M [00:03<00:00, 107MiB/s]\n",
            "/usr/local/lib/python3.12/dist-packages/torch/nn/modules/transformer.py:392: UserWarning: enable_nested_tensor is True, but self.use_nested_tensor is False because encoder_layer.norm_first was True\n",
            "  warnings.warn(\n",
            "Only the text encoder will be fine-tuned\n",
            "Target pad with target_ratio = 1.25 preprocess pipeline is used\n",
            "Laion train dataset (combined) initialized (root=/content/drive/MyDrive/Zero-shot/laion_cir_combined)\n",
            "Kept 22666 pairs; skipped 1 missing pairs.\n",
            "[Trainer] Initialized for 10 epochs. AMP=True\n",
            "[0/10] train loss : 2.892 :   1%|▊                                                                      | 30/2833 [01:55<2:47:49,  3.59s/it]/usr/local/lib/python3.12/dist-packages/PIL/Image.py:1047: UserWarning: Palette images with Transparency expressed in bytes should be converted to RGBA images\n",
            "  warnings.warn(\n",
            "[0/10] train loss : 1.711 :   2%|█▌                                                                     | 63/2833 [03:49<2:10:21,  2.82s/it]/usr/local/lib/python3.12/dist-packages/PIL/Image.py:1047: UserWarning: Palette images with Transparency expressed in bytes should be converted to RGBA images\n",
            "  warnings.warn(\n",
            "[0/10] train loss : 0.264 : 100%|█████████████████████████████████████████████████████████████████████| 2833/2833 [2:08:19<00:00,  2.72s/it]\n",
            "[Epoch 1/10] Avg Train Loss: 0.2637\n",
            "[1/10] train loss : 0.154 :   1%|▋                                                                        | 25/2833 [00:07<08:50,  5.29it/s]/usr/local/lib/python3.12/dist-packages/PIL/Image.py:1047: UserWarning: Palette images with Transparency expressed in bytes should be converted to RGBA images\n",
            "  warnings.warn(\n",
            "[1/10] train loss : 0.160 :   9%|██████▌                                                                 | 260/2833 [01:02<12:41,  3.38it/s]/usr/local/lib/python3.12/dist-packages/PIL/Image.py:1047: UserWarning: Palette images with Transparency expressed in bytes should be converted to RGBA images\n",
            "  warnings.warn(\n",
            "[1/10] train loss : 0.149 : 100%|███████████████████████████████████████████████████████████████████████| 2833/2833 [11:00<00:00,  4.29it/s]\n",
            "[Epoch 2/10] Avg Train Loss: 0.1486\n",
            "[2/10] train loss : 0.126 :   1%|▋                                                                        | 27/2833 [00:06<13:38,  3.43it/s]/usr/local/lib/python3.12/dist-packages/PIL/Image.py:1047: UserWarning: Palette images with Transparency expressed in bytes should be converted to RGBA images\n",
            "  warnings.warn(\n",
            "[2/10] train loss : 0.116 :   5%|███▌                                                                    | 139/2833 [00:35<15:31,  2.89it/s]/usr/local/lib/python3.12/dist-packages/PIL/Image.py:1047: UserWarning: Palette images with Transparency expressed in bytes should be converted to RGBA images\n",
            "  warnings.warn(\n",
            "[2/10] train loss : 0.123 : 100%|███████████████████████████████████████████████████████████████████████| 2833/2833 [10:59<00:00,  4.29it/s]\n",
            "[Epoch 3/10] Avg Train Loss: 0.1230\n",
            "  0%|                                                                                                              | 0/2833 [00:00<?, ?it/s]/usr/local/lib/python3.12/dist-packages/PIL/Image.py:1047: UserWarning: Palette images with Transparency expressed in bytes should be converted to RGBA images\n",
            "  warnings.warn(\n",
            "[3/10] train loss : 0.110 :   3%|██▍                                                                      | 95/2833 [00:24<13:18,  3.43it/s]/usr/local/lib/python3.12/dist-packages/PIL/Image.py:1047: UserWarning: Palette images with Transparency expressed in bytes should be converted to RGBA images\n",
            "  warnings.warn(\n",
            "[3/10] train loss : 0.102 : 100%|███████████████████████████████████████████████████████████████████████| 2833/2833 [10:58<00:00,  4.30it/s]\n",
            "[Epoch 4/10] Avg Train Loss: 0.1023\n",
            "[4/10] train loss : 0.105 :   1%|▋                                                                        | 25/2833 [00:06<08:33,  5.47it/s]/usr/local/lib/python3.12/dist-packages/PIL/Image.py:1047: UserWarning: Palette images with Transparency expressed in bytes should be converted to RGBA images\n",
            "  warnings.warn(\n",
            "[4/10] train loss : 0.118 :   1%|▉                                                                        | 35/2833 [00:09<10:16,  4.54it/s]/usr/local/lib/python3.12/dist-packages/PIL/Image.py:1047: UserWarning: Palette images with Transparency expressed in bytes should be converted to RGBA images\n",
            "  warnings.warn(\n",
            "[4/10] train loss : 0.087 : 100%|███████████████████████████████████████████████████████████████████████| 2833/2833 [11:02<00:00,  4.28it/s]\n",
            "[Epoch 5/10] Avg Train Loss: 0.0872\n",
            "[5/10] train loss : 0.077 :   0%|▏                                                                         | 8/2833 [00:02<10:50,  4.34it/s]/usr/local/lib/python3.12/dist-packages/PIL/Image.py:1047: UserWarning: Palette images with Transparency expressed in bytes should be converted to RGBA images\n",
            "  warnings.warn(\n",
            "[5/10] train loss : 0.085 :   3%|██                                                                       | 81/2833 [00:21<15:58,  2.87it/s]/usr/local/lib/python3.12/dist-packages/PIL/Image.py:1047: UserWarning: Palette images with Transparency expressed in bytes should be converted to RGBA images\n",
            "  warnings.warn(\n",
            "[5/10] train loss : 0.071 : 100%|███████████████████████████████████████████████████████████████████████| 2833/2833 [10:56<00:00,  4.31it/s]\n",
            "[Epoch 6/10] Avg Train Loss: 0.0711\n",
            "[6/10] train loss : 0.027 :   0%|                                                                          | 4/2833 [00:02<18:41,  2.52it/s]/usr/local/lib/python3.12/dist-packages/PIL/Image.py:1047: UserWarning: Palette images with Transparency expressed in bytes should be converted to RGBA images\n",
            "  warnings.warn(\n",
            "[6/10] train loss : 0.043 :   0%|▎                                                                        | 12/2833 [00:03<08:05,  5.81it/s]/usr/local/lib/python3.12/dist-packages/PIL/Image.py:1047: UserWarning: Palette images with Transparency expressed in bytes should be converted to RGBA images\n",
            "  warnings.warn(\n",
            "[6/10] train loss : 0.064 : 100%|███████████████████████████████████████████████████████████████████████| 2833/2833 [10:51<00:00,  4.35it/s]\n",
            "[Epoch 7/10] Avg Train Loss: 0.0640\n",
            "[7/10] train loss : 0.011 :   1%|▍                                                                        | 18/2833 [00:04<08:00,  5.86it/s]/usr/local/lib/python3.12/dist-packages/PIL/Image.py:1047: UserWarning: Palette images with Transparency expressed in bytes should be converted to RGBA images\n",
            "  warnings.warn(\n",
            "[7/10] train loss : 0.055 :   9%|██████▍                                                                 | 253/2833 [01:01<06:58,  6.17it/s]/usr/local/lib/python3.12/dist-packages/PIL/Image.py:1047: UserWarning: Palette images with Transparency expressed in bytes should be converted to RGBA images\n",
            "  warnings.warn(\n",
            "[7/10] train loss : 0.055 : 100%|███████████████████████████████████████████████████████████████████████| 2833/2833 [10:55<00:00,  4.32it/s]\n",
            "[Epoch 8/10] Avg Train Loss: 0.0554\n",
            "[8/10] train loss : 0.069 :   3%|██▍                                                                      | 96/2833 [00:25<12:34,  3.63it/s]/usr/local/lib/python3.12/dist-packages/PIL/Image.py:1047: UserWarning: Palette images with Transparency expressed in bytes should be converted to RGBA images\n",
            "  warnings.warn(\n",
            "[8/10] train loss : 0.069 :   3%|██▍                                                                      | 97/2833 [00:25<12:12,  3.73it/s]/usr/local/lib/python3.12/dist-packages/PIL/Image.py:1047: UserWarning: Palette images with Transparency expressed in bytes should be converted to RGBA images\n",
            "  warnings.warn(\n",
            "[8/10] train loss : 0.050 : 100%|███████████████████████████████████████████████████████████████████████| 2833/2833 [10:51<00:00,  4.35it/s]\n",
            "[Epoch 9/10] Avg Train Loss: 0.0499\n",
            "[9/10] train loss : 0.037 :   1%|▍                                                                        | 16/2833 [00:05<09:35,  4.90it/s]/usr/local/lib/python3.12/dist-packages/PIL/Image.py:1047: UserWarning: Palette images with Transparency expressed in bytes should be converted to RGBA images\n",
            "  warnings.warn(\n",
            "[9/10] train loss : 0.029 :   1%|▌                                                                        | 24/2833 [00:07<17:08,  2.73it/s]/usr/local/lib/python3.12/dist-packages/PIL/Image.py:1047: UserWarning: Palette images with Transparency expressed in bytes should be converted to RGBA images\n",
            "  warnings.warn(\n",
            "[9/10] train loss : 0.046 : 100%|███████████████████████████████████████████████████████████████████████| 2833/2833 [10:53<00:00,  4.33it/s]\n",
            "[Epoch 10/10] Avg Train Loss: 0.0463\n",
            "Training complete. All checkpoints saved.\n",
            "\u001b[34m\u001b[1mwandb\u001b[0m: \u001b[38;5;178m⢿\u001b[0m Finishing up...\n",
            "\u001b[34m\u001b[1mwandb\u001b[0m: \u001b[38;5;178m⣻\u001b[0m Finishing up...\n",
            "\u001b[34m\u001b[1mwandb\u001b[0m: \u001b[38;5;178m⣽\u001b[0m Finishing up...\n",
            "\u001b[34m\u001b[1mwandb\u001b[0m: \n",
            "\u001b[34m\u001b[1mwandb\u001b[0m: Run history:\n",
            "\u001b[34m\u001b[1mwandb\u001b[0m:      epoch ▁▂▃▃▄▅▆▆▇█\n",
            "\u001b[34m\u001b[1mwandb\u001b[0m: train_loss █▄▃▃▂▂▂▁▁▁\n",
            "\u001b[34m\u001b[1mwandb\u001b[0m: \n",
            "\u001b[34m\u001b[1mwandb\u001b[0m: Run summary:\n",
            "\u001b[34m\u001b[1mwandb\u001b[0m:      epoch 9\n",
            "\u001b[34m\u001b[1mwandb\u001b[0m: train_loss 0.04631\n",
            "\u001b[34m\u001b[1mwandb\u001b[0m: \n",
            "\u001b[34m\u001b[1mwandb\u001b[0m: 🚀 View run \u001b[33mcolab_run_clipB32_combined\u001b[0m at: \u001b[34m\u001b[4mhttps://wandb.ai/kumaragerivindu-university-of-moratuwa/ZeroShot-CIR/runs/ez86gwpd\u001b[0m\n",
            "\u001b[34m\u001b[1mwandb\u001b[0m: ⭐️ View project at: \u001b[34m\u001b[4mhttps://wandb.ai/kumaragerivindu-university-of-moratuwa/ZeroShot-CIR\u001b[0m\n",
            "\u001b[34m\u001b[1mwandb\u001b[0m: Synced 2 W&B file(s), 0 media file(s), 0 artifact file(s) and 0 other file(s)\n",
            "\u001b[34m\u001b[1mwandb\u001b[0m: Find logs at: \u001b[35m\u001b[1m./wandb/run-20251019_131947-ez86gwpd/logs\u001b[0m\n"
          ]
        }
      ]
    }
  ]
}